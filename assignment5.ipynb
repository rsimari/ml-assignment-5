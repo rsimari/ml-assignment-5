{
 "cells": [
  {
   "cell_type": "markdown",
   "metadata": {},
   "source": [
    "#### authors: Robert Simari and John Joyce\n",
    "#### date: 4/14/18\n",
    "\n",
    "# Question 1\n",
    "## Goal: Use delta training rule to learn -2 + x<sub>1</sub> + x<sub>2</sub> < 0"
   ]
  },
  {
   "cell_type": "code",
   "execution_count": 3,
   "metadata": {},
   "outputs": [],
   "source": [
    "import numpy as np\n",
    "import matplotlib.pyplot as plt\n",
    "%matplotlib inline"
   ]
  },
  {
   "cell_type": "code",
   "execution_count": 17,
   "metadata": {},
   "outputs": [],
   "source": [
    "# Generate Data Set\n",
    "\n",
    "# first randomly select x_1 and x_2 training values uniformly from -1000 to 1000\n",
    "low = -1000\n",
    "high = 1000\n",
    "size = 5000\n",
    "x_1 = np.random.uniform(low, high, size)\n",
    "x_2 = np.random.uniform(low, high, size)\n",
    "\n",
    "x = [[x_1[i], x_2[i]] for i in range(len(x_1))]\n",
    "\n",
    "# define target function f\n",
    "##### Is this supposed to be a boolean function? or a surface with two inputs? #####\n",
    "def f(x1, x2):\n",
    "    if -2 + x1 + x2 < 0:\n",
    "        return 1\n",
    "    return 0\n",
    "\n",
    "# generate output for generated inputs\n",
    "y = [f(x_1[i], x_2[i]) for i in range(size)]\n",
    "\n",
    "# adds output as last element in list of values for each instance\n",
    "data = [x[i] + [y[i]] for i in range(len(x))]\n"
   ]
  },
  {
   "cell_type": "code",
   "execution_count": 50,
   "metadata": {},
   "outputs": [
    {
     "data": {
      "image/png": "[encoded data removed]",
      "text/plain": [
       "<Figure size 432x288 with 1 Axes>"
      ]
     },
     "metadata": {},
     "output_type": "display_data"
    },
    {
     "data": {
      "image/png": "[encoded data removed]",
      "text/plain": [
       "<Figure size 432x288 with 1 Axes>"
      ]
     },
     "metadata": {},
     "output_type": "display_data"
    }
   ],
   "source": [
    "# define gradient descent logic\n",
    "# @params: 2D array [[feature_vals,...,output]], float, int\n",
    "# @return: array of weights ?? \n",
    "def gradient_descent(training_examples, learning_rate, max_rounds = 100):\n",
    "    num_features = len(training_examples[0]) - 1\n",
    "    # initialize weights to a small random values\n",
    "    weights = np.random.uniform(0, 0.5, num_features)\n",
    "    ss_error = []\n",
    "    for r in range(max_rounds): \n",
    "        # intialize all delta weights to 0\n",
    "        delta_w = [0 for _ in range(num_features)]\n",
    "        partial_errs = []\n",
    "        # compute delta weights for each training example\n",
    "        for instance in training_examples:\n",
    "            target = instance[-1]\n",
    "            output = sum([i * j for i,j in zip(weights, instance[:-1])]) > 0\n",
    "            for i in range(len(delta_w)):\n",
    "                delta_w[i] = delta_w[i] + learning_rate * (target - output) * instance[i]\n",
    "            partial_errs.append((target-output) ** 2)\n",
    "        for i in range(len(weights)):\n",
    "            weights[i] = weights[i] + delta_w[i]\n",
    "        ss_error.append((r, sum(partial_errs) / 2))\n",
    "        if sum(partial_errs) / 2 == 0: break\n",
    "    return ss_error, weights\n",
    "        \n",
    "# TODO: plot decision surface ... generate random inputs and color the 0's one color and 1's another color\n",
    "\n",
    "ss_error, weights = gradient_descent(data, 0.01)\n",
    "\n",
    "# Decision Surface\n",
    "classes = []\n",
    "for instance in data:\n",
    "    output = sum([i * j for i,j in zip(weights, instance[:-1])]) > 0\n",
    "    classes.append(output)\n",
    "\n",
    "plt.scatter([x[0] for x in data], [x[1] for x in data], c=classes)\n",
    "plt.xlabel('x1')\n",
    "plt.ylabel('x2')\n",
    "plt.show()\n",
    "\n",
    "# this expects the ss_error to be: [iteration_num, error_val]\n",
    "plt.plot([x[0] for x in ss_error], [y[1] for y in ss_error])\n",
    "plt.xlabel('Number of iterations')\n",
    "plt.ylabel('Sum of Squared Error')\n",
    "plt.show()\n",
    "    "
   ]
  },
  {
   "cell_type": "markdown",
   "metadata": {},
   "source": [
    "# Question 2"
   ]
  },
  {
   "cell_type": "code",
   "execution_count": 47,
   "metadata": {},
   "outputs": [],
   "source": [
    "from sklearn.neural_network import MLPClassifier\n",
    "from sklearn.tree import DecisionTreeClassifier\n",
    "from sklearn.model_selection import train_test_split, cross_val_score\n",
    "from scipy.stats import ttest_ind"
   ]
  },
  {
   "cell_type": "code",
   "execution_count": 48,
   "metadata": {},
   "outputs": [
    {
     "data": {
      "text/plain": [
       "Ttest_indResult(statistic=1.282594455603326, pvalue=0.21590559350128047)"
      ]
     },
     "execution_count": 48,
     "metadata": {},
     "output_type": "execute_result"
    }
   ],
   "source": [
    "# read in data from files\n",
    "f = open('ism.data', 'r')\n",
    "body_lines = f.readlines()\n",
    "x = []\n",
    "y = []\n",
    "for line in body_lines:\n",
    "    spl_line = line.rstrip().split(',')\n",
    "    x.append([float(i) for i in spl_line[:-1]])\n",
    "    y.append(spl_line[-1])\n",
    "\n",
    "# split data into training and testing sets, not sure if we need this\n",
    "#x_train, x_test, y_train, y_test = train_test_split(x, y, test_size = 0.20, random_state = 7)\n",
    "    \n",
    "# create neural network classifier\n",
    "nn_classifier = MLPClassifier()\n",
    "\n",
    "# create decision tree classifier\n",
    "dt_classifier = DecisionTreeClassifier()\n",
    "\n",
    "# use 10-fold cross validation to compare classifiers\n",
    "nn_scores = cross_val_score(nn_classifier, x, y, cv = 10)\n",
    "#print(\"Neural Network Accuracy: %0.2f (+/- %0.2f)\" % (scores.mean(), scores.std() * 2))\n",
    "dt_scores = cross_val_score(dt_classifier, x, y, cv = 10)\n",
    "#print(\"Decision Tree Accuracy: %0.2f (+/- %0.2f)\" % (scores2.mean(), scores2.std() * 2))\n",
    "\n",
    "# determines which model is better with 95% CI using error as metric using AUC or F-measure?\n",
    "stat, pvalue = ttest_ind(nn_scores, dt_scores)"
   ]
  },
  {
   "cell_type": "code",
   "execution_count": null,
   "metadata": {},
   "outputs": [],
   "source": []
  }
 ],
 "metadata": {
  "kernelspec": {
   "display_name": "Python 3",
   "language": "python",
   "name": "python3"
  },
  "language_info": {
   "codemirror_mode": {
    "name": "ipython",
    "version": 3
   },
   "file_extension": ".py",
   "mimetype": "text/x-python",
   "name": "python",
   "nbconvert_exporter": "python",
   "pygments_lexer": "ipython3",
   "version": "3.6.5"
  }
 },
 "nbformat": 4,
 "nbformat_minor": 2
}
