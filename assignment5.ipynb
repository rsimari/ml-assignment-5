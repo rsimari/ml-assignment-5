{
 "cells": [
  {
   "cell_type": "markdown",
   "metadata": {},
   "source": [
    "#### authors: Robert Simari and John Joyce\n",
    "#### date: 4/14/18\n",
    "\n",
    "# Question 1\n",
    "## Goal: Use delta training rule to learn -2 + x<sub>1</sub> + x<sub>2</sub> < 0"
   ]
  },
  {
   "cell_type": "code",
   "execution_count": 9,
   "metadata": {},
   "outputs": [],
   "source": [
    "import numpy as np"
   ]
  },
  {
   "cell_type": "code",
   "execution_count": 21,
   "metadata": {},
   "outputs": [],
   "source": [
    "# Generate Data Set\n",
    "\n",
    "# first randomly select x_1 and x_2 training values uniformly from -1000 to 1000\n",
    "low = -1000\n",
    "high = 1000\n",
    "size = 5000\n",
    "x_1 = np.random.uniform(low, high, size)\n",
    "x_2 = np.random.uniform(low, high, size)\n",
    "\n",
    "x = [[x_1[i], x_2[i]] for i in range(len(x_1))]\n",
    "\n",
    "# define target function f\n",
    "##### Is this supposed to be a boolean function? or a surface with two inputs? #####\n",
    "def f(x1, x2):\n",
    "    y = -2 + x1 + x2\n",
    "    if y < 0:\n",
    "        return y\n",
    "    return 0\n",
    "\n",
    "# generate output for generated inputs\n",
    "y = [f(x_1[i], x_2[i]) for i in range(size)]\n",
    "\n",
    "# adds output as last element in list of values for each instance\n",
    "data = [x[i] + [y[i]] for i in range(len(x))]\n"
   ]
  },
  {
   "cell_type": "code",
   "execution_count": 50,
   "metadata": {},
   "outputs": [
    {
     "ename": "NameError",
     "evalue": "name 'plt' is not defined",
     "output_type": "error",
     "traceback": [
      "\u001b[0;31m---------------------------------------------------------------------------\u001b[0m",
      "\u001b[0;31mNameError\u001b[0m                                 Traceback (most recent call last)",
      "\u001b[0;32m<ipython-input-50-f8332262d848>\u001b[0m in \u001b[0;36m<module>\u001b[0;34m()\u001b[0m\n\u001b[1;32m     24\u001b[0m \u001b[0mss_error\u001b[0m \u001b[0;34m=\u001b[0m \u001b[0;34m[\u001b[0m\u001b[0;34m]\u001b[0m\u001b[0;34m\u001b[0m\u001b[0m\n\u001b[1;32m     25\u001b[0m \u001b[0;31m# this expects the ss_error to be: [iteration_num, error_val]\u001b[0m\u001b[0;34m\u001b[0m\u001b[0;34m\u001b[0m\u001b[0m\n\u001b[0;32m---> 26\u001b[0;31m \u001b[0mplt\u001b[0m\u001b[0;34m.\u001b[0m\u001b[0mplot\u001b[0m\u001b[0;34m(\u001b[0m\u001b[0;34m[\u001b[0m\u001b[0mx\u001b[0m\u001b[0;34m[\u001b[0m\u001b[0;36m0\u001b[0m\u001b[0;34m]\u001b[0m \u001b[0;32mfor\u001b[0m \u001b[0mx\u001b[0m \u001b[0;32min\u001b[0m \u001b[0mss_error\u001b[0m\u001b[0;34m]\u001b[0m\u001b[0;34m,\u001b[0m \u001b[0;34m[\u001b[0m\u001b[0my\u001b[0m\u001b[0;34m[\u001b[0m\u001b[0;36m1\u001b[0m\u001b[0;34m]\u001b[0m \u001b[0;32mfor\u001b[0m \u001b[0my\u001b[0m \u001b[0;32min\u001b[0m \u001b[0mss_error\u001b[0m\u001b[0;34m]\u001b[0m\u001b[0;34m)\u001b[0m\u001b[0;34m\u001b[0m\u001b[0m\n\u001b[0m\u001b[1;32m     27\u001b[0m \u001b[0mplt\u001b[0m\u001b[0;34m.\u001b[0m\u001b[0mxlabel\u001b[0m\u001b[0;34m(\u001b[0m\u001b[0;34m'Number of iterations'\u001b[0m\u001b[0;34m)\u001b[0m\u001b[0;34m\u001b[0m\u001b[0m\n\u001b[1;32m     28\u001b[0m \u001b[0mplt\u001b[0m\u001b[0;34m.\u001b[0m\u001b[0mylabel\u001b[0m\u001b[0;34m(\u001b[0m\u001b[0;34m'Sum of Squared Error'\u001b[0m\u001b[0;34m)\u001b[0m\u001b[0;34m\u001b[0m\u001b[0m\n",
      "\u001b[0;31mNameError\u001b[0m: name 'plt' is not defined"
     ]
    }
   ],
   "source": [
    "# define gradient descent logic\n",
    "# @params: 2D array [[feature_vals,...,output]], float, int\n",
    "# @return: array of weights\n",
    "def gradient_descent(training_examples, learning_rate, rounds):\n",
    "    num_features = len(training_examples[0] - 1)\n",
    "    # initialize weights to a small random values\n",
    "    weights = np.random.uniform(0, 0.5, num_features)\n",
    "    for _ in range(rounds):\n",
    "        # intialize all delta weights to 0\n",
    "        delta_w = [0 for _ in range(num_features)]\n",
    "        # compute delta weight for each training example\n",
    "        for instance in training_examples:\n",
    "            output = instance[-1]\n",
    "            # how to compute sigma???\n",
    "            # delta_w = learning_rate * delta_w * (output - sigma) * instance[:-1] ???? this isnt right ????\n",
    "        for i in range(len(weights)):\n",
    "            weights[i] = weights[i] + delta_w[i]\n",
    "    return weights\n",
    "        \n",
    "# TODO: how to compute Sum Square Error on each iteration\n",
    "# TODO: how to compute sigma to adjust weights\n",
    "# TODO: plotting error with matplotlib\n",
    "\n",
    "ss_error = []\n",
    "# this expects the ss_error to be: [iteration_num, error_val]\n",
    "plt.plot([x[0] for x in ss_error], [y[1] for y in ss_error])\n",
    "plt.xlabel('Number of iterations')\n",
    "plt.ylabel('Sum of Squared Error')\n",
    "plt.show()\n",
    "#### This is taken from his notes on the board ####\n",
    "# until the termination condition is met, do\n",
    "#    delta_w_i = 0\n",
    "#    for x_i in training_examples:\n",
    "#        sigma = ?\n",
    "#        for each linear unit weight:\n",
    "#           delta_w_i = delta_w_i * (output - sigma) * x_i\n",
    "#        w_i = w_i + delta_w_i\n",
    "# return weights\n",
    "    "
   ]
  },
  {
   "cell_type": "markdown",
   "metadata": {},
   "source": [
    "# Question 2"
   ]
  },
  {
   "cell_type": "code",
   "execution_count": 48,
   "metadata": {},
   "outputs": [],
   "source": [
    "from sklearn.neural_network import MLPClassifier\n",
    "from sklearn.tree import DecisionTreeClassifier\n",
    "from sklearn.model_selection import train_test_split, cross_val_score"
   ]
  },
  {
   "cell_type": "code",
   "execution_count": 49,
   "metadata": {},
   "outputs": [
    {
     "name": "stdout",
     "output_type": "stream",
     "text": [
      "Neural Network Accuracy: 0.98 (+/- 0.01)\n",
      "Decision Tree Accuracy: 0.98 (+/- 0.01)\n"
     ]
    }
   ],
   "source": [
    "# read in data from files\n",
    "f = open('ism.data', 'r')\n",
    "body_lines = f.readlines()\n",
    "x = []\n",
    "y = []\n",
    "for line in body_lines:\n",
    "    spl_line = line.rstrip().split(',')\n",
    "    x.append([float(i) for i in spl_line[:-1]])\n",
    "    y.append(spl_line[-1])\n",
    "\n",
    "# split data into training and testing sets, not sure if we need this\n",
    "x_train, x_test, y_train, y_test = train_test_split(x, y, test_size = 0.20, random_state = 7)\n",
    "    \n",
    "# create neural network classifier\n",
    "nn_classifier = MLPClassifier()\n",
    "nn_classifier.fit(x_train, y_train)\n",
    "\n",
    "# create decision tree classifier\n",
    "dt_classifier = DecisionTreeClassifier()\n",
    "dt_classifier.fit(x_train, y_train)\n",
    "\n",
    "# use 10-fold cross validation to compare classifiers\n",
    "scores = cross_val_score(nn_classifier, x_test, y_test, cv = 10)\n",
    "print(\"Neural Network Accuracy: %0.2f (+/- %0.2f)\" % (scores.mean(), scores.std() * 2))\n",
    "scores = cross_val_score(dt_classifier, x_test, y_test, cv = 10)\n",
    "print(\"Decision Tree Accuracy: %0.2f (+/- %0.2f)\" % (scores.mean(), scores.std() * 2))\n",
    "\n",
    "# determines which model is better with 95% CI using error as metric using AUC or F-measure?\n"
   ]
  },
  {
   "cell_type": "code",
   "execution_count": null,
   "metadata": {},
   "outputs": [],
   "source": []
  }
 ],
 "metadata": {
  "kernelspec": {
   "display_name": "Python 3",
   "language": "python",
   "name": "python3"
  },
  "language_info": {
   "codemirror_mode": {
    "name": "ipython",
    "version": 3
   },
   "file_extension": ".py",
   "mimetype": "text/x-python",
   "name": "python",
   "nbconvert_exporter": "python",
   "pygments_lexer": "ipython3",
   "version": "3.6.4"
  }
 },
 "nbformat": 4,
 "nbformat_minor": 2
}
